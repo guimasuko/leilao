{
 "cells": [
  {
   "cell_type": "code",
   "execution_count": 1,
   "metadata": {},
   "outputs": [],
   "source": [
    "import numpy as np\n",
    "import matplotlib.pyplot as plt\n",
    "import pandas as pd\n",
    "import seaborn as sns"
   ]
  },
  {
   "attachments": {},
   "cell_type": "markdown",
   "metadata": {},
   "source": [
    "## Questão 2. ( 5.0 pontos) \n",
    "Considere dois indivíduos competindo pela compra de um bem. A variável aleatória $V_i$, para $i$ = 1, 2, representa a disposição a pagar pelo bem do indivíduo i. Suponha que $V_i$ seja i.i.d., com distribuição $F_v$ e densidade $f(v)$, limitada entre zero e infinito, estando longe desses limites. A distribuição $F$ é conhecida pelos indivíduos, mas o valor $V_j$ do indivíduo $j$ é desconhecido para o indivíduo $i$, e vice-versa. Suponha que o indivíduo não revele sua disposição a pagar $V_i$, mas uma quantidade $B_i$ tal que $B_i \\leq V_i$. Se $V_j > V_i$, então o indivíduo $i$ desiste da compra quando $B_j = V_i$ e sai da disputa. O indivíduo $j$ então é declarado vencedor e compra o objeto pelo preço $B_j \\leq V_j$. Isso se repete um número $L$ de vezes, gerando um vetor de preços de transação $T$, que é observado pelo econometrista e possui a seguinte caracterização de equilíbrio: $T = V_{1:2}$, onde $V_{1:2}$ é a segunda maior estatística de ordem da variável aleatória disposição a pagar pelo bem (chame também de valoração). Denote por $G(t)$ a distribuição de preços de transação."
   ]
  },
  {
   "attachments": {},
   "cell_type": "markdown",
   "metadata": {},
   "source": [
    "### (a) (0.25) Obtenha uma fórmula para a distribuição de $V_{1:2}$."
   ]
  },
  {
   "attachments": {},
   "cell_type": "markdown",
   "metadata": {},
   "source": [
    "Em estatística de ordem, a $k$-ésima maior estatística de ordem de uma amostra é igual ao seu $k$-ésimo maior valor.\n",
    "\n",
    "Portanto, a distribuição da $k$-ésima estatística de ordem $X_{(k)}$, é\n",
    "\n",
    "$$\n",
    "F_{X_{(k)}}(x) = \\sum_{j=k}^{n} \\binom{n}{j} [ F(x) ]^{j} [ 1 - F(x) ]^{n-j} \n",
    "$$\n",
    "\n",
    "A segunda maior estatística de ordem de uma amostra de tamanho $n$ é então, $X_{(n-1)}$.\n",
    "\n",
    "$$\n",
    "\\begin{aligned}\n",
    "F_{X_{(n-1)}}(x) & = \\sum_{j=n-1}^{n} \\binom{n}{j} [ F(x) ]^{j} [ 1 - F(x) ]^{n-j} \\\\\n",
    "& = \\binom{n}{n-1} [ F(x) ]^{n-1} [ 1 - F(x) ]^{n-(n-1)} + \\binom{n}{n} [ F(x) ]^{n} [ 1 - F(x) ]^{n-n} \\\\\n",
    "& = n [ F(x) ]^{n-1} [ 1 - F(x) ] + [F(x)]^n \\\\\n",
    "\\end{aligned}\n",
    "$$\n",
    "\n",
    "Como, nesse caso, $n=2$, então\n",
    "\n",
    "$$\n",
    "\\begin{aligned}\n",
    "F_{X_{(2-1)}}(x) & = 2 [ F(x) ]^{2-1} [ 1 - F(x) ] + [F(x)]^2 = 2F(x)[ 1 - F(x) ] + [F(x)]^2 \\\\\n",
    "F_{X_{(1)}}(x) & = F(x)[ 2 - F(x) ]\n",
    "\\end{aligned}\n",
    "$$"
   ]
  },
  {
   "attachments": {},
   "cell_type": "markdown",
   "metadata": {},
   "source": [
    "Para o caso que estamos estudando o que encontramos é\n",
    "\n",
    "$$\n",
    "F_{V_{1:2}}(v) = F_v(v)\\left[2 - F_v(v)\\right]\n",
    "$$"
   ]
  },
  {
   "attachments": {},
   "cell_type": "markdown",
   "metadata": {},
   "source": [
    "### (b) (1.0) Como $V$ não é observado, $F_v(v)$ não é conhecido pelo econometrista. Proponha uma forma de identificar $F_v(v)$ via $G(t)$. Dica: escreva $G(t)$ como uma função de $F(v)$."
   ]
  },
  {
   "attachments": {},
   "cell_type": "markdown",
   "metadata": {},
   "source": [
    "Como $T = V_{1:2}$, então o que encontramos em $(a)$ nada mais é que a distribuição de $G(t)$, isso é\n",
    "\n",
    "$$\n",
    "G(t) = F_{V_{1:2}}(v) = F_v(v)\\left[2 - F_v(v)\\right]\n",
    "$$"
   ]
  },
  {
   "attachments": {},
   "cell_type": "markdown",
   "metadata": {},
   "source": [
    "$$\n",
    "\\begin{aligned}\n",
    "G(t) &= F_v(v)[ 2 - F_v(v) ] = 2F_v(v) - F_v(v)^2\\\\\n",
    "F_v(v)^2 - 2F_v(v) + G(t) &= 0 \\\\\n",
    "F_v(v)^2 - 2F_v(v) + G(t) + 1 - 1 &= 0 \\\\\n",
    "F_v(v)^2 - 2F_v(v) + 1 &= 1 - G(t) \\\\\n",
    "[F_v(v)-1]^2 &= 1 - G(t) \\\\\n",
    "\\end{aligned}\n",
    "$$\n",
    "\n",
    "Como $F_v(v) \\in \\left[0,1\\right]$, então $F_v(v)-1 \\leq 0$, portanto\n",
    "\n",
    "\n",
    "$$\n",
    "\\begin{aligned}\n",
    "[F_v(v) - 1]^2 &= 1 - G(t) \\\\\n",
    "[1 - F_v(v)]^2 &= 1 - G(t) \\\\\n",
    "1 - F_v(v) &= \\sqrt{1 - G(t)} \\\\\n",
    "F_v(v) &= 1 - \\sqrt{1 - G(t)}\n",
    "\\end{aligned}\n",
    "$$"
   ]
  }
 ],
 "metadata": {
  "kernelspec": {
   "display_name": "Python 3",
   "language": "python",
   "name": "python3"
  },
  "language_info": {
   "codemirror_mode": {
    "name": "ipython",
    "version": 3
   },
   "file_extension": ".py",
   "mimetype": "text/x-python",
   "name": "python",
   "nbconvert_exporter": "python",
   "pygments_lexer": "ipython3",
   "version": "3.10.2 (tags/v3.10.2:a58ebcc, Jan 17 2022, 14:12:15) [MSC v.1929 64 bit (AMD64)]"
  },
  "orig_nbformat": 4,
  "vscode": {
   "interpreter": {
    "hash": "c63d8c7d738c2960218a10995aedf0a7f67a49a231e71037adf0440953cdb45b"
   }
  }
 },
 "nbformat": 4,
 "nbformat_minor": 2
}
