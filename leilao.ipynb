{
 "cells": [
  {
   "attachments": {},
   "cell_type": "markdown",
   "metadata": {},
   "source": [
    "## Questão 2. ( 5.0 pontos) \n",
    "Considere dois indivíduos competindo pela compra de um bem. A variável aleatória $V_i$, para $i$ = 1, 2, representa a disposição a pagar pelo bem do indivíduo i. Suponha que $V_i$ seja i.i.d., com distribuição $F_v$ e densidade $f(v)$, limitada entre zero e infinito, estando longe desses limites. A distribuição $F$ é conhecida pelos indivíduos, mas o valor $V_j$ do indivíduo $j$ é desconhecido para o indivíduo $i$, e vice-versa. Suponha que o indivíduo não revele sua disposição a pagar $V_i$, mas uma quantidade $B_i$ tal que $B_i \\leq V_i$. Se $V_j > V_i$, então o indivíduo $i$ desiste da compra quando $B_j = V_i$ e sai da disputa. O indivíduo $j$ então é declarado vencedor e compra o objeto pelo preço $B_j \\leq V_j$. Isso se repete um número $L$ de vezes, gerando um vetor de preços de transação $T$, que é observado pelo econometrista e possui a seguinte caracterização de equilíbrio: $T = V_{1:2}$, onde $V_{1:2}$ é a segunda maior estatística de ordem da variável aleatória disposição a pagar pelo bem (chame também de valoração). Denote por $G(t)$ a distribuição de preços de transação."
   ]
  },
  {
   "attachments": {},
   "cell_type": "markdown",
   "metadata": {},
   "source": [
    "### $(a)$ (0.25) Obtenha uma fórmula para a distribuição de $V_{1:2}$."
   ]
  },
  {
   "attachments": {},
   "cell_type": "markdown",
   "metadata": {},
   "source": [
    "Em estatística de ordem, a $k$-ésima maior estatística de ordem de uma amostra é igual ao seu $k$-ésimo maior valor.\n",
    "\n",
    "Portanto, a distribuição da $k$-ésima estatística de ordem $X_{(k)}$, é\n",
    "\n",
    "$$\n",
    "F_{X_{(k)}}(x) = \\sum_{j=k}^{n} \\binom{n}{j} [ F(x) ]^{j} [ 1 - F(x) ]^{n-j} \n",
    "$$\n",
    "\n",
    "A segunda maior estatística de ordem de uma amostra de tamanho $n$ é então, $X_{(n-1)}$.\n",
    "\n",
    "$$\n",
    "\\begin{aligned}\n",
    "F_{X_{(n-1)}}(x) & = \\sum_{j=n-1}^{n} \\binom{n}{j} [ F(x) ]^{j} [ 1 - F(x) ]^{n-j} \\\\\n",
    "& = \\binom{n}{n-1} [ F(x) ]^{n-1} [ 1 - F(x) ]^{n-(n-1)} + \\binom{n}{n} [ F(x) ]^{n} [ 1 - F(x) ]^{n-n} \\\\\n",
    "& = n [ F(x) ]^{n-1} [ 1 - F(x) ] + [F(x)]^n \\\\\n",
    "\\end{aligned}\n",
    "$$\n",
    "\n",
    "Como, nesse caso, $n=2$, então\n",
    "\n",
    "$$\n",
    "\\begin{aligned}\n",
    "F_{X_{(2-1)}}(x) & = 2 [ F(x) ]^{2-1} [ 1 - F(x) ] + [F(x)]^2 = 2F(x)[ 1 - F(x) ] + [F(x)]^2 \\\\\n",
    "F_{X_{(1)}}(x) & = F(x)[ 2 - F(x) ]\n",
    "\\end{aligned}\n",
    "$$"
   ]
  },
  {
   "attachments": {},
   "cell_type": "markdown",
   "metadata": {},
   "source": [
    "Para o caso que estamos estudando o que encontramos é\n",
    "\n",
    "$$\n",
    "F_{V_{1:2}}(v) = F_v(v)\\left[2 - F_v(v)\\right]\n",
    "$$"
   ]
  },
  {
   "attachments": {},
   "cell_type": "markdown",
   "metadata": {},
   "source": [
    "### $(b)$ (1.0) Como $V$ não é observado, $F_v(v)$ não é conhecido pelo econometrista. Proponha uma forma de identificar $F_v(v)$ via $G(t)$. Dica: escreva $G(t)$ como uma função de $F(v)$."
   ]
  },
  {
   "attachments": {},
   "cell_type": "markdown",
   "metadata": {},
   "source": [
    "Como $T = V_{1:2}$, então o que encontramos em $(a)$ nada mais é que a distribuição de $G(t)$, isso é\n",
    "\n",
    "$$\n",
    "G(t) = F_{V_{1:2}}(v) = F_v(v)\\left[2 - F_v(v)\\right]\n",
    "$$"
   ]
  },
  {
   "attachments": {},
   "cell_type": "markdown",
   "metadata": {},
   "source": [
    "$$\n",
    "\\begin{aligned}\n",
    "G(t) &= F_v(v)[ 2 - F_v(v) ] = 2F_v(v) - F_v(v)^2\\\\\n",
    "F_v(v)^2 - 2F_v(v) + G(t) &= 0 \\\\\n",
    "F_v(v)^2 - 2F_v(v) + G(t) + 1 - 1 &= 0 \\\\\n",
    "F_v(v)^2 - 2F_v(v) + 1 &= 1 - G(t) \\\\\n",
    "[F_v(v)-1]^2 &= 1 - G(t) \\\\\n",
    "\\end{aligned}\n",
    "$$\n",
    "\n",
    "Como $F_v(v) \\in \\left[0,1\\right]$, então $F_v(v)-1 \\leq 0$, portanto\n",
    "\n",
    "\n",
    "$$\n",
    "\\begin{aligned}\n",
    "[F_v(v) - 1]^2 &= 1 - G(t) \\\\\n",
    "[1 - F_v(v)]^2 &= 1 - G(t) \\\\\n",
    "1 - F_v(v) &= \\sqrt{1 - G(t)} \\\\\n",
    "F_v(v) &= 1 - \\sqrt{1 - G(t)}\n",
    "\\end{aligned}\n",
    "$$"
   ]
  },
  {
   "attachments": {},
   "cell_type": "markdown",
   "metadata": {},
   "source": [
    "### $(c)$ (0.25) Suponha que $G(t)$ seja descrita pela distribuição exponencial abaixo $G(t) = 1 − \\exp\\{−t/\\lambda\\}$ onde $\\lambda > 0$. Proponha uma forma para estimar $\\lambda$. Posteriormente, proponha uma forma de estimar $F_v(v)$ parametricamente."
   ]
  },
  {
   "attachments": {},
   "cell_type": "markdown",
   "metadata": {},
   "source": [
    "Para estimar $\\lambda$, iremos utilizar método de momentos. Para isso, defina a pdf da distribução de $T$ como\n",
    "\n",
    "$$\n",
    "g(t) = G'(t) = \\frac{1}{\\lambda}e^{-\\frac{t}{\\lambda}}\n",
    "$$\n",
    "\n",
    "Então, temos que\n",
    "\n",
    "$$\n",
    "\\begin{aligned}\n",
    "\\mathbb{E}\\left[T\\right] &= \\int_0^{\\infty} t g(t) d t \\\\\n",
    "&= \\int_0^{\\infty} t \\frac{1}{\\lambda} e^{-\\frac{t}{\\lambda}} d t \\\\\n",
    "&= \\frac{1}{\\lambda} \\int_0^{\\infty} t e^{-\\frac{t}{\\lambda}} d t \\\\\n",
    "\\end{aligned}\n",
    "$$\n",
    "\n",
    "Usando integral por partes, temos\n",
    "\n",
    "$$\n",
    "\\begin{aligned}\n",
    "\\mathbb{E}\\left[T\\right] &= \\frac{1}{\\lambda} \\left[-\\left . \\lambda e^{-\\frac{t}{\\lambda}}t\\right|_0 ^{\\infty} + \\int_0^{\\infty} \\lambda e^{-\\frac{t}{\\lambda}} d y\\right] \\\\\n",
    "&= \\frac{1}{\\lambda} \\lambda \\left[  \\left . -\\lambda e^{-\\frac{t}{\\lambda}}\\right|_0^{\\infty} \\right] \\\\\n",
    "&= -\\lambda (-1) = \\lambda \\\\\n",
    "\\end{aligned}\n",
    "$$\n",
    "\n",
    "Pela Lei dos Grandes Números, temos que \n",
    "\n",
    "$$\n",
    "\\bar{t} = \\frac{1}{L} \\sum_{l=1}^L t_i  \\xrightarrow{\\text{p}} \\mathbb{E}\\left[T\\right] = \\lambda\n",
    "$$\n",
    "\n",
    "Então o estimador de método de momentos é consistente, sendo ele\n",
    "\n",
    "$$\n",
    "\\hat{\\lambda} = \\bar{t} = \\frac{1}{L} \\sum_{l=1}^L t_i\n",
    "$$"
   ]
  },
  {
   "attachments": {},
   "cell_type": "markdown",
   "metadata": {},
   "source": [
    "Enquanto a distribuição $F_v(v)$ fica como\n",
    "\n",
    "$$\\begin{aligned}\n",
    "\\hat{F}_v(t) = 1 - \\sqrt{1 - ( 1 - \\exp \\{ -t / \\hat{\\lambda} \\} ) } \\\\\n",
    "\\hat{F}_v(t) = 1 - \\sqrt{ \\exp \\{ { -t / \\hat{\\lambda} } \\} } \\\\\n",
    "\\hat{F}_v(t) = 1 - \\exp \\{ { -t / 2\\hat{\\lambda} } \\}\n",
    "\\end{aligned}$$"
   ]
  },
  {
   "attachments": {},
   "cell_type": "markdown",
   "metadata": {},
   "source": [
    "### $(d)$ (0.25) Proponha uma forma alternativa não paramétrica para estimar $F_v(v)$ baseada na função indicadora."
   ]
  },
  {
   "attachments": {},
   "cell_type": "markdown",
   "metadata": {},
   "source": [
    "A função não paramétrica baseada na função indicadora é\n",
    "\n",
    "$$\n",
    "\\begin{align*}\n",
    "\\hat{F}_v (t) = 1 - \\sqrt{1-\\hat{G} (t)}\\\\\n",
    "\\end{align*}\n",
    "$$\n",
    "\n",
    "onde \n",
    "\n",
    "$$\n",
    "\\hat{G} (t) = \\frac{1}{L}\\sum_{l=1}^{L}  \\mathbb{I}_{(T_l \\leq t)}\n",
    "$$"
   ]
  },
  {
   "attachments": {},
   "cell_type": "markdown",
   "metadata": {},
   "source": [
    "### $(e)$ (0.25) Proponha agora uma versão suavizada para o estimador em (d). "
   ]
  },
  {
   "attachments": {},
   "cell_type": "markdown",
   "metadata": {},
   "source": [
    "A versão suavizada para a cdf empírica foi sugerida por Efron (1979), Silverman e Young (1987):\n",
    "\n",
    "$$\n",
    "\\begin{align*}\n",
    "\\hat{F}_v (t) = 1 - \\sqrt{1-\\hat{G} (t)}\\\\\n",
    "\\end{align*}\n",
    "$$\n",
    "\n",
    "onde \n",
    "\n",
    "$$\\begin{aligned}\n",
    "\\hat{G}(t) = \\frac{1}{Lh}\\sum_{l=1}^{L}\\int_{0}^{t} k\\left(\\frac{T_l - t}{h}\\right)\\\\\n",
    "\\end{aligned}$$\n",
    "\n",
    "em que $k$ é uma função kernel."
   ]
  },
  {
   "attachments": {},
   "cell_type": "markdown",
   "metadata": {},
   "source": [
    "Para o exercício de simulação abaixo, considere uma amostra do mercado acima com $L=1000$ observações. \n",
    "\n",
    "Suponha que a função geradora de valores nesse mercado seja dada por \n",
    "\n",
    "$$\n",
    "V\\left(\\alpha \\mid Z_1\\right)=\\gamma_0(\\alpha) + Z_1,\n",
    "$$\n",
    "\n",
    "onde $\\alpha \\in[0,1], Z_1 \\sim \\ln N(0,0.5) \\mathrm{e}$\n",
    "\n",
    "$$\n",
    "\\gamma_0(\\alpha)=-\\log \\left(1-\\left(1-\\frac{1}{e}\\right) \\alpha\\right) .\n",
    "$$\n",
    "\n",
    "Sorteie de forma i.i.d. valores da função $V\\left(\\alpha \\mid Z_1\\right)$ para os dois indivíduos do mercado descrito acima. Obtenha o preço de transação de acordo com o equilíbrio $T=V_{1: 2}$.\n",
    "\n",
    "Repita esse processo $L=1000$ vezes. Dicas: avalie $\\gamma_0(\\alpha)$ em um grid $\\alpha \\in[0,1]$. Note que você terá $2 L$ valores, mas $L$ preços de transação. Construa o seu próprio código para as stimações abaixo, não use os comandos do software."
   ]
  },
  {
   "cell_type": "code",
   "execution_count": null,
   "metadata": {},
   "outputs": [],
   "source": [
    "import numpy as np\n",
    "import matplotlib.pyplot as plt\n",
    "import pandas as pd\n",
    "import seaborn as sns\n",
    "import random"
   ]
  },
  {
   "attachments": {},
   "cell_type": "markdown",
   "metadata": {},
   "source": [
    "Primeiro, iremos criar dois vetores com $L = 1000$ amostras, com valores de $\\alpha_1$ e $\\alpha_2$ para os dois agentes (compradores) desse mercado retirados de uma distribuição uniforme entre 0 e 1."
   ]
  },
  {
   "cell_type": "code",
   "execution_count": 6,
   "metadata": {},
   "outputs": [],
   "source": [
    "L = 1000\n",
    "alpha_1 = np.zeros(L)\n",
    "alpha_2 = np.zeros(L)\n",
    "\n",
    "for i in range(L):\n",
    "    alpha_1[i] = random.uniform(0, 1)\n",
    "    alpha_2[i] = random.uniform(0, 1)"
   ]
  },
  {
   "cell_type": "code",
   "execution_count": 7,
   "metadata": {},
   "outputs": [],
   "source": [
    "# a variável Z_1 é retirada de uma log normal uma única vez e utilizada como uma constante na equação de valorações\n",
    "Z_1 = np.random.lognormal(0, 0.5, 1)"
   ]
  },
  {
   "cell_type": "code",
   "execution_count": 9,
   "metadata": {},
   "outputs": [],
   "source": [
    "# vamos definir a função gamma_0 que recebe um vetor alpha com 1000 valores e devolve um vetor com 1000 valores também.\n",
    "def gamma_0(alpha):\n",
    "    g = -np.log( 1 - ( 1 - ( 1 / np.exp(1) ) * alpha ) )\n",
    "    return g"
   ]
  },
  {
   "cell_type": "code",
   "execution_count": 11,
   "metadata": {},
   "outputs": [],
   "source": [
    "gamma_0_alpha_1 = gamma_0(alpha_1)\n",
    "gamma_0_alpha_2 = gamma_0(alpha_2)"
   ]
  },
  {
   "cell_type": "code",
   "execution_count": 12,
   "metadata": {},
   "outputs": [],
   "source": [
    "# As valorações de cada agente são obtidas através de\n",
    "V_1 = gamma_0_alpha_1 + Z_1\n",
    "V_2 = gamma_0_alpha_2 + Z_1"
   ]
  },
  {
   "attachments": {},
   "cell_type": "markdown",
   "metadata": {},
   "source": [
    "Agora vamos definir finalmente a variável $T = V_{1:2}$. O método será pegar para cada $i \\in L$, o menor valor entre $V_1 (\\alpha_1 | Z_1)$ e $V_2(\\alpha_2 | Z_1)$"
   ]
  },
  {
   "cell_type": "code",
   "execution_count": 15,
   "metadata": {},
   "outputs": [],
   "source": [
    "T = np.zeros(L)\n",
    "\n",
    "for i in range(L):\n",
    "    if V_1[i] >= V_2[i]:\n",
    "        T[i] = V_2[i]\n",
    "    else:\n",
    "        T[i] = V_1[i]"
   ]
  },
  {
   "attachments": {},
   "cell_type": "markdown",
   "metadata": {},
   "source": [
    "### $(f)$ (1.0) Estime de forma não paramétrica a distribuição dos preços de transação G(t). Use a distribuição empírica baseada na função indicadora e também um kernel de sua escolha. Compare as duas estimações. Use gráficos para a sua comparação. Para o bandwidth, escolha a regra de bolso de Silverman."
   ]
  },
  {
   "attachments": {},
   "cell_type": "markdown",
   "metadata": {},
   "source": [
    "Relembrando a cdf empírica usando a função indicadora\n",
    "\n",
    "$$\n",
    "\\hat{G} (t) =\\frac{1}{L}\\sum_{l=1}^{L}  \\mathbb{I}_{(T_l \\leq t)}\n",
    "$$"
   ]
  },
  {
   "cell_type": "code",
   "execution_count": 30,
   "metadata": {},
   "outputs": [],
   "source": [
    "# sorteando a varíavel preço de transação do menor para o maior\n",
    "T.sort()"
   ]
  },
  {
   "cell_type": "code",
   "execution_count": 63,
   "metadata": {},
   "outputs": [],
   "source": [
    "G_t = np.zeros(L)\n",
    "\n",
    "for l in range(L):\n",
    "    G_t[l] = ( l + 1 ) / 1000 # esse + 1 aqui é porque no pytho o primeiro índice é 0"
   ]
  },
  {
   "cell_type": "code",
   "execution_count": 64,
   "metadata": {},
   "outputs": [],
   "source": [
    "df = pd.DataFrame({'t':T, 'G(t)':G_t})"
   ]
  },
  {
   "cell_type": "code",
   "execution_count": 65,
   "metadata": {},
   "outputs": [
    {
     "data": {
      "text/html": [
       "<div>\n",
       "<style scoped>\n",
       "    .dataframe tbody tr th:only-of-type {\n",
       "        vertical-align: middle;\n",
       "    }\n",
       "\n",
       "    .dataframe tbody tr th {\n",
       "        vertical-align: top;\n",
       "    }\n",
       "\n",
       "    .dataframe thead th {\n",
       "        text-align: right;\n",
       "    }\n",
       "</style>\n",
       "<table border=\"1\" class=\"dataframe\">\n",
       "  <thead>\n",
       "    <tr style=\"text-align: right;\">\n",
       "      <th></th>\n",
       "      <th>t</th>\n",
       "      <th>G(t)</th>\n",
       "    </tr>\n",
       "  </thead>\n",
       "  <tbody>\n",
       "    <tr>\n",
       "      <th>0</th>\n",
       "      <td>1.299685</td>\n",
       "      <td>0.001</td>\n",
       "    </tr>\n",
       "    <tr>\n",
       "      <th>1</th>\n",
       "      <td>1.299874</td>\n",
       "      <td>0.002</td>\n",
       "    </tr>\n",
       "    <tr>\n",
       "      <th>2</th>\n",
       "      <td>1.300824</td>\n",
       "      <td>0.003</td>\n",
       "    </tr>\n",
       "    <tr>\n",
       "      <th>3</th>\n",
       "      <td>1.300946</td>\n",
       "      <td>0.004</td>\n",
       "    </tr>\n",
       "    <tr>\n",
       "      <th>4</th>\n",
       "      <td>1.301224</td>\n",
       "      <td>0.005</td>\n",
       "    </tr>\n",
       "    <tr>\n",
       "      <th>...</th>\n",
       "      <td>...</td>\n",
       "      <td>...</td>\n",
       "    </tr>\n",
       "    <tr>\n",
       "      <th>995</th>\n",
       "      <td>3.691259</td>\n",
       "      <td>0.996</td>\n",
       "    </tr>\n",
       "    <tr>\n",
       "      <th>996</th>\n",
       "      <td>3.696434</td>\n",
       "      <td>0.997</td>\n",
       "    </tr>\n",
       "    <tr>\n",
       "      <th>997</th>\n",
       "      <td>3.728692</td>\n",
       "      <td>0.998</td>\n",
       "    </tr>\n",
       "    <tr>\n",
       "      <th>998</th>\n",
       "      <td>3.816968</td>\n",
       "      <td>0.999</td>\n",
       "    </tr>\n",
       "    <tr>\n",
       "      <th>999</th>\n",
       "      <td>4.532389</td>\n",
       "      <td>1.000</td>\n",
       "    </tr>\n",
       "  </tbody>\n",
       "</table>\n",
       "<p>1000 rows × 2 columns</p>\n",
       "</div>"
      ],
      "text/plain": [
       "            t   G(t)\n",
       "0    1.299685  0.001\n",
       "1    1.299874  0.002\n",
       "2    1.300824  0.003\n",
       "3    1.300946  0.004\n",
       "4    1.301224  0.005\n",
       "..        ...    ...\n",
       "995  3.691259  0.996\n",
       "996  3.696434  0.997\n",
       "997  3.728692  0.998\n",
       "998  3.816968  0.999\n",
       "999  4.532389  1.000\n",
       "\n",
       "[1000 rows x 2 columns]"
      ]
     },
     "execution_count": 65,
     "metadata": {},
     "output_type": "execute_result"
    }
   ],
   "source": [
    "df"
   ]
  },
  {
   "cell_type": "code",
   "execution_count": 52,
   "metadata": {},
   "outputs": [
    {
     "data": {
      "text/plain": [
       "<AxesSubplot:xlabel='t', ylabel='Count'>"
      ]
     },
     "execution_count": 52,
     "metadata": {},
     "output_type": "execute_result"
    },
    {
     "data": {
      "image/png": "[encoded data removed]",
      "text/plain": [
       "<Figure size 864x576 with 1 Axes>"
      ]
     },
     "metadata": {},
     "output_type": "display_data"
    }
   ],
   "source": [
    "xs = np.arange(1, 5, .01)\n",
    "\n",
    "sns.set(rc={'figure.figsize':(12,8)});\n",
    "sns.histplot(data = df['t'], stat= 'count', cumulative=True, binwidth=0.1)"
   ]
  },
  {
   "attachments": {},
   "cell_type": "markdown",
   "metadata": {},
   "source": [
    "### (g) (1.0) Implemente as estimações da distribuição de valores $F_v(v)$ solicitadas em $(d)$ e $(e)$ baseadas nas estimações de $G(t)$ obtidas em $(f)$. Compare graficamente as distribuições estimadas com a verdadeira."
   ]
  },
  {
   "attachments": {},
   "cell_type": "markdown",
   "metadata": {},
   "source": [
    "Relembrando a fórmula para gerar $F_v(v)$ com base em $G(t)$\n",
    "\n",
    "$$\n",
    "\\begin{align*}\n",
    "\\hat{F}_v (t) = 1 - \\sqrt{1-\\hat{G} (t)}\\\\\n",
    "\\end{align*}\n",
    "$$"
   ]
  },
  {
   "cell_type": "code",
   "execution_count": 66,
   "metadata": {},
   "outputs": [],
   "source": [
    "df['F(t)'] = 1 - np.sqrt(1 - df['G(t)'])"
   ]
  },
  {
   "cell_type": "code",
   "execution_count": 67,
   "metadata": {},
   "outputs": [
    {
     "data": {
      "text/html": [
       "<div>\n",
       "<style scoped>\n",
       "    .dataframe tbody tr th:only-of-type {\n",
       "        vertical-align: middle;\n",
       "    }\n",
       "\n",
       "    .dataframe tbody tr th {\n",
       "        vertical-align: top;\n",
       "    }\n",
       "\n",
       "    .dataframe thead th {\n",
       "        text-align: right;\n",
       "    }\n",
       "</style>\n",
       "<table border=\"1\" class=\"dataframe\">\n",
       "  <thead>\n",
       "    <tr style=\"text-align: right;\">\n",
       "      <th></th>\n",
       "      <th>t</th>\n",
       "      <th>G(t)</th>\n",
       "      <th>F(t)</th>\n",
       "    </tr>\n",
       "  </thead>\n",
       "  <tbody>\n",
       "    <tr>\n",
       "      <th>0</th>\n",
       "      <td>1.299685</td>\n",
       "      <td>0.001</td>\n",
       "      <td>0.000500</td>\n",
       "    </tr>\n",
       "    <tr>\n",
       "      <th>1</th>\n",
       "      <td>1.299874</td>\n",
       "      <td>0.002</td>\n",
       "      <td>0.001001</td>\n",
       "    </tr>\n",
       "    <tr>\n",
       "      <th>2</th>\n",
       "      <td>1.300824</td>\n",
       "      <td>0.003</td>\n",
       "      <td>0.001501</td>\n",
       "    </tr>\n",
       "    <tr>\n",
       "      <th>3</th>\n",
       "      <td>1.300946</td>\n",
       "      <td>0.004</td>\n",
       "      <td>0.002002</td>\n",
       "    </tr>\n",
       "    <tr>\n",
       "      <th>4</th>\n",
       "      <td>1.301224</td>\n",
       "      <td>0.005</td>\n",
       "      <td>0.002503</td>\n",
       "    </tr>\n",
       "    <tr>\n",
       "      <th>...</th>\n",
       "      <td>...</td>\n",
       "      <td>...</td>\n",
       "      <td>...</td>\n",
       "    </tr>\n",
       "    <tr>\n",
       "      <th>995</th>\n",
       "      <td>3.691259</td>\n",
       "      <td>0.996</td>\n",
       "      <td>0.936754</td>\n",
       "    </tr>\n",
       "    <tr>\n",
       "      <th>996</th>\n",
       "      <td>3.696434</td>\n",
       "      <td>0.997</td>\n",
       "      <td>0.945228</td>\n",
       "    </tr>\n",
       "    <tr>\n",
       "      <th>997</th>\n",
       "      <td>3.728692</td>\n",
       "      <td>0.998</td>\n",
       "      <td>0.955279</td>\n",
       "    </tr>\n",
       "    <tr>\n",
       "      <th>998</th>\n",
       "      <td>3.816968</td>\n",
       "      <td>0.999</td>\n",
       "      <td>0.968377</td>\n",
       "    </tr>\n",
       "    <tr>\n",
       "      <th>999</th>\n",
       "      <td>4.532389</td>\n",
       "      <td>1.000</td>\n",
       "      <td>1.000000</td>\n",
       "    </tr>\n",
       "  </tbody>\n",
       "</table>\n",
       "<p>1000 rows × 3 columns</p>\n",
       "</div>"
      ],
      "text/plain": [
       "            t   G(t)      F(t)\n",
       "0    1.299685  0.001  0.000500\n",
       "1    1.299874  0.002  0.001001\n",
       "2    1.300824  0.003  0.001501\n",
       "3    1.300946  0.004  0.002002\n",
       "4    1.301224  0.005  0.002503\n",
       "..        ...    ...       ...\n",
       "995  3.691259  0.996  0.936754\n",
       "996  3.696434  0.997  0.945228\n",
       "997  3.728692  0.998  0.955279\n",
       "998  3.816968  0.999  0.968377\n",
       "999  4.532389  1.000  1.000000\n",
       "\n",
       "[1000 rows x 3 columns]"
      ]
     },
     "execution_count": 67,
     "metadata": {},
     "output_type": "execute_result"
    }
   ],
   "source": []
  }
 ],
 "metadata": {
  "kernelspec": {
   "display_name": "Python 3",
   "language": "python",
   "name": "python3"
  },
  "language_info": {
   "codemirror_mode": {
    "name": "ipython",
    "version": 3
   },
   "file_extension": ".py",
   "mimetype": "text/x-python",
   "name": "python",
   "nbconvert_exporter": "python",
   "pygments_lexer": "ipython3",
   "version": "3.10.2"
  },
  "orig_nbformat": 4,
  "vscode": {
   "interpreter": {
    "hash": "c63d8c7d738c2960218a10995aedf0a7f67a49a231e71037adf0440953cdb45b"
   }
  }
 },
 "nbformat": 4,
 "nbformat_minor": 2
}
